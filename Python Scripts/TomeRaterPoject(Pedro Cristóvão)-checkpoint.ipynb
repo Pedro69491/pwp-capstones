{
 "cells": [
  {
   "cell_type": "code",
   "execution_count": 1,
   "metadata": {},
   "outputs": [],
   "source": [
    "class User:\n",
    "    \n",
    "    def __init__(self, name, email):\n",
    "        self.name = name\n",
    "        self.email = email \n",
    "        self.books = {}\n",
    "       \n",
    "    def get_email(self):\n",
    "        if self.email.find(\"@\") != -1:\n",
    "            if self.email.find(\".org\") != -1 and self.email.find(\".com\") == -1 and self.email.find(\".edu\") == -1:\n",
    "                return self.email\n",
    "            elif self.email.find(\".com\") != -1 and self.email.find(\".org\") == -1 and self.email.find(\".edu\") == -1:\n",
    "                return self.email\n",
    "            elif self.email.find(\".edu\") != -1 and self.email.find(\".org\") == -1 and self.email.find(\".com\") == -1:\n",
    "                return self.email\n",
    "            print(\"Invalid domain\") \n",
    "        print(\"Invalid email\")\n",
    "        \n",
    "         \n",
    "    def change_email(self, new_email): \n",
    "        if new_email != self.email:\n",
    "            print(\"The user´s email has been updated\")\n",
    "    \n",
    "    def __repr__(self):\n",
    "        return \"User: {name}, @: {email}, books read: {book}\".format(name=self.name, email=self.email, book=len(self.books))\n",
    "    \n",
    "    def __eq__(self, other):\n",
    "        if other.__class__ is self.__class__:\n",
    "            return (self.name, self.email, self.books) == (other.name, other.email, other.books)\n",
    "        return NotImplemented\n",
    "    \n",
    "    def read_book(self, book, rating=None):\n",
    "        self.books[book] = rating\n",
    "        return self.books\n",
    "        \n",
    "    def get_average_rating(self):\n",
    "        sum = 0\n",
    "        for number in self.books.values():\n",
    "            sum += number\n",
    "        try:\n",
    "            average = sum/len(self.books)\n",
    "            return average\n",
    "        except ZeroDivisionError:\n",
    "            print(\"Can't divide by zero!\")\n",
    "            "
   ]
  },
  {
   "cell_type": "code",
   "execution_count": 2,
   "metadata": {},
   "outputs": [],
   "source": [
    "class Book:\n",
    "    def __init__(self, title, isbn):\n",
    "        self.title = title\n",
    "        self.isbn = isbn\n",
    "        self.ratings = []\n",
    "    \n",
    "    def get_title(self):\n",
    "        return self.title\n",
    "\n",
    "    def get_isbn(self):\n",
    "        unique_isbn = []\n",
    "        if self.isbn not in unique_isbn:\n",
    "            unique_isbn.append(self.isbn)\n",
    "            print(self.isbn)\n",
    "        print(\"invalid isbn\")\n",
    "    \n",
    "    def set_isbn(self, new_isbn):\n",
    "        if new_isbn != self.isbn:\n",
    "            print(\"This book´s ISBN has been updated\")\n",
    "    \n",
    "    def add_rating(self, rating):\n",
    "        self.rating = rating\n",
    "        if self.rating >= 0 and self.rating <= 4:\n",
    "            self.ratings.append(self.rating)\n",
    "        return \"invalid Rating\"\n",
    "    \n",
    "    def __eq__(self, other):\n",
    "        if other.__class__ is self.__class__:\n",
    "            return (other.title, other.isbn, other.ratings) == (self.title, self.isbn, self.ratings)\n",
    "        return NotImplemented\n",
    "    \n",
    "    def get_average_rating(self):\n",
    "        sum = 0\n",
    "        for rating in self.ratings:\n",
    "            sum += rating\n",
    "        return sum/len(self.ratings)\n",
    "    \n",
    "    def __hash__(self):\n",
    "        return hash((self.title, self.isbn))\n",
    "    \n",
    "    def __repr__(self):\n",
    "        return self.title\n",
    "        "
   ]
  },
  {
   "cell_type": "code",
   "execution_count": 3,
   "metadata": {},
   "outputs": [],
   "source": [
    "class Fiction(Book):\n",
    "    author = \"\"\n",
    "    \n",
    "    def __init__(self, title, author, isbn):\n",
    "        super().__init__(title, isbn)\n",
    "        if author:\n",
    "            self.author = author\n",
    "    \n",
    "    def get_author(self):\n",
    "        return self.author\n",
    "    \n",
    "    def __repr__(self):\n",
    "        return \"{title} by {author}\".format(title=self.title, author=self.author)\n",
    "    "
   ]
  },
  {
   "cell_type": "code",
   "execution_count": 4,
   "metadata": {},
   "outputs": [],
   "source": [
    "class Non_Fiction(Book):\n",
    "    level = \"\"\n",
    "    subject = \"\"\n",
    "    \n",
    "    def __init__(self, title, level, subject, isbn):\n",
    "        super().__init__(title, isbn)\n",
    "        if level and subject:\n",
    "            self.level = level.lower()\n",
    "            self.subject = subject.title()                       \n",
    "    \n",
    "    def get_subject(self):\n",
    "         return self.subject\n",
    "    \n",
    "    def get_level(self):\n",
    "        return self.level\n",
    "    \n",
    "    def __repr__(self):\n",
    "        return \"{title}, a {level} manual on {subject}\".format(title=self.title, level=self.level, subject=self.subject)\n"
   ]
  },
  {
   "cell_type": "code",
   "execution_count": 5,
   "metadata": {},
   "outputs": [],
   "source": [
    "class TomeRater:\n",
    "    def __init__(self):\n",
    "        self.users = {}\n",
    "        self.books = {}\n",
    "    \n",
    "    def create_book(self, title, isbn):\n",
    "        return Book(title, isbn)\n",
    "        \n",
    "    def create_novel(self, title, author, isbn):\n",
    "        return Fiction(title, author, isbn)\n",
    "    \n",
    "    def create_non_fiction(self, title, subject, level, isbn):\n",
    "        return Non_Fiction(title, subject, level, isbn)\n",
    "    \n",
    "    def add_book_to_user(self, book, email, rating=None):\n",
    "        if email not in self.users:\n",
    "            print(\"No user with email {email}!\".format(email=email))\n",
    "        self.users[email].read_book(book, rating)\n",
    "        book.add_rating(rating)\n",
    "        if book not in self.books:\n",
    "            self.books[book] = 1\n",
    "        self.books[book] += 1\n",
    "    \n",
    "    def add_user(self, name, email, user_books=None):\n",
    "        if email in self.users.keys():\n",
    "            print(\"This user already exists\")\n",
    "        self.users[email] = User(name, email)\n",
    "        if user_books != None:\n",
    "            user_books = []\n",
    "            for book in user_books:\n",
    "                self.add_book_to_user(book, email)\n",
    "       \n",
    "    \n",
    "    def print_catalog(self):\n",
    "        for book in self.books.keys():\n",
    "            print(book)\n",
    "        \n",
    "    def print_users(self):\n",
    "        for User in self.users.values():\n",
    "            print(User)\n",
    "        \n",
    "    def most_read_book(self):\n",
    "        top_book = \" \"\n",
    "        highest_number = 0\n",
    "        for book, reads in self.books.items():\n",
    "            if self.books[book] > highest_number:\n",
    "                highest_number = self.books[book]\n",
    "                top_book = book\n",
    "        return top_book\n",
    "    \n",
    "    def highest_rated_book(self):\n",
    "        favourite_book = \" \"\n",
    "        highest_rate = float()\n",
    "        for book in self.books.keys():\n",
    "            if book.get_average_rating() > highest_rate:\n",
    "                highest_rate = book.get_average_rating()\n",
    "                favourite_book = book\n",
    "        return favourite_book\n",
    "            \n",
    "                \n",
    "    def most_positive_user(self):\n",
    "        positive_user = \" \"\n",
    "        best_average = float()\n",
    "        for user in self.users.values():\n",
    "            if user.get_average_rating() > best_average:\n",
    "                best_average = user.get_average_rating()\n",
    "                positive_user = user\n",
    "        return positive_user\n",
    "        \n",
    "    \n",
    "        \n",
    "        "
   ]
  },
  {
   "cell_type": "code",
   "execution_count": 6,
   "metadata": {},
   "outputs": [
    {
     "name": "stdout",
     "output_type": "stream",
     "text": [
      "This book´s ISBN has been updated\n",
      "Automate the Boring Stuff, a python manual on Beginner\n"
     ]
    }
   ],
   "source": [
    "Tome_Rater = TomeRater()\n",
    "novel1 = Tome_Rater.create_novel(\"Alice In Wonderland\", \"Lewis Carroll\", 12345)\n",
    "novel1.set_isbn(9781536831139)\n",
    "nonfiction1 = Tome_Rater.create_non_fiction(\"Automate the Boring Stuff\", \"Python\", \"beginner\", 1929452)\n",
    "nonfiction2 = Tome_Rater.create_non_fiction(\"Computing Machinery and Intelligence\", \"AI\", \"advanced\", 11111938)\n",
    "novel2 = Tome_Rater.create_novel(\"The Diamond Age\", \"Neal Stephenson\", 10101010)\n",
    "novel3 = Tome_Rater.create_novel(\"There Will Come Soft Rains\", \"Ray Bradbury\", 10001000)\n",
    "book1 = Tome_Rater.create_book(\"Society of Mind\", 12345678)\n",
    "print(nonfiction1)\n",
    "\n"
   ]
  },
  {
   "cell_type": "code",
   "execution_count": 7,
   "metadata": {},
   "outputs": [],
   "source": [
    "Tome_Rater.add_user(\"Alan Turing\", \"alan@turing.com\")\n",
    "Tome_Rater.add_user(\"Marvin Minsky\", \"marvin@mit.edu\", user_books=[book1, novel1, nonfiction1])\n",
    "Tome_Rater.add_user(\"David Marr\", \"david@computation.org\")\n",
    "\n"
   ]
  },
  {
   "cell_type": "code",
   "execution_count": 8,
   "metadata": {},
   "outputs": [],
   "source": [
    "Tome_Rater.add_book_to_user(book1, \"alan@turing.com\", 1)\n",
    "Tome_Rater.add_book_to_user(novel1, \"alan@turing.com\", 3)\n",
    "Tome_Rater.add_book_to_user(novel3, \"david@computation.org\", 4)\n",
    "Tome_Rater.add_book_to_user(novel2, \"marvin@mit.edu\", 2)\n",
    "\n"
   ]
  },
  {
   "cell_type": "code",
   "execution_count": 9,
   "metadata": {},
   "outputs": [],
   "source": [
    "Tome_Rater.add_book_to_user(novel3, \"marvin@mit.edu\", 2)\n",
    "\n",
    "\n",
    "\n",
    "\n"
   ]
  },
  {
   "cell_type": "code",
   "execution_count": 10,
   "metadata": {
    "scrolled": true
   },
   "outputs": [
    {
     "name": "stdout",
     "output_type": "stream",
     "text": [
      "Society of Mind\n",
      "Alice In Wonderland by Lewis Carroll\n",
      "There Will Come Soft Rains by Ray Bradbury\n",
      "The Diamond Age by Neal Stephenson\n",
      "User: Alan Turing, @: alan@turing.com, books read: 2\n",
      "User: Marvin Minsky, @: marvin@mit.edu, books read: 2\n",
      "User: David Marr, @: david@computation.org, books read: 1\n"
     ]
    }
   ],
   "source": [
    "Tome_Rater.print_catalog()\n",
    "Tome_Rater.print_users()"
   ]
  },
  {
   "cell_type": "code",
   "execution_count": 11,
   "metadata": {},
   "outputs": [
    {
     "name": "stdout",
     "output_type": "stream",
     "text": [
      "There Will Come Soft Rains by Ray Bradbury\n"
     ]
    }
   ],
   "source": [
    "print(Tome_Rater.most_read_book())"
   ]
  },
  {
   "cell_type": "code",
   "execution_count": 12,
   "metadata": {},
   "outputs": [
    {
     "name": "stdout",
     "output_type": "stream",
     "text": [
      "Alice In Wonderland by Lewis Carroll\n"
     ]
    }
   ],
   "source": [
    "print(Tome_Rater.highest_rated_book())"
   ]
  },
  {
   "cell_type": "code",
   "execution_count": 13,
   "metadata": {},
   "outputs": [
    {
     "name": "stdout",
     "output_type": "stream",
     "text": [
      "User: David Marr, @: david@computation.org, books read: 1\n"
     ]
    }
   ],
   "source": [
    "print(Tome_Rater.most_positive_user())"
   ]
  },
  {
   "cell_type": "code",
   "execution_count": null,
   "metadata": {},
   "outputs": [],
   "source": []
  },
  {
   "cell_type": "code",
   "execution_count": null,
   "metadata": {},
   "outputs": [],
   "source": []
  },
  {
   "cell_type": "code",
   "execution_count": null,
   "metadata": {},
   "outputs": [],
   "source": []
  }
 ],
 "metadata": {
  "kernelspec": {
   "display_name": "Python 3",
   "language": "python",
   "name": "python3"
  },
  "language_info": {
   "codemirror_mode": {
    "name": "ipython",
    "version": 3
   },
   "file_extension": ".py",
   "mimetype": "text/x-python",
   "name": "python",
   "nbconvert_exporter": "python",
   "pygments_lexer": "ipython3",
   "version": "3.7.0"
  }
 },
 "nbformat": 4,
 "nbformat_minor": 2
}
